{
 "cells": [
  {
   "cell_type": "code",
   "execution_count": 1,
   "metadata": {},
   "outputs": [
    {
     "name": "stderr",
     "output_type": "stream",
     "text": [
      "Using TensorFlow backend.\n"
     ]
    }
   ],
   "source": [
    "import numpy as np\n",
    "import cv2\n",
    "import matplotlib.pyplot as plt\n",
    "import math\n",
    "from keras.datasets import mnist\n",
    "from sklearn.preprocessing import LabelEncoder\n",
    "from sklearn.preprocessing import OneHotEncoder"
   ]
  },
  {
   "cell_type": "code",
   "execution_count": 2,
   "metadata": {},
   "outputs": [],
   "source": [
    "(X_train, y_train), (X_test, y_test) = mnist.load_data()\n",
    "(X_train, y_train), (X_test, y_test) = mnist.load_data()\n",
    "def get_batch(X, y, batch_size=1000):\n",
    "    for i in np.arange(0, y.shape[0], batch_size):\n",
    "        end = min(X.shape[0], i + batch_size)\n",
    "        yield(X[i:end],y[i:end])"
   ]
  },
  {
   "cell_type": "markdown",
   "metadata": {},
   "source": [
    "ConVolution Function"
   ]
  },
  {
   "cell_type": "code",
   "execution_count": 3,
   "metadata": {},
   "outputs": [],
   "source": [
    "def convolution(batch,kernels):\n",
    "    stride=(1,1,1)\n",
    "    stride=np.asarray(stride)\n",
    "    blocks = (np.array(batch[0,:,:].shape)-np.array(kernels[0,:,:].shape))//np.array(stride)+1\n",
    "    #print blocks\n",
    "    no_blocks_row_image=blocks[0]\n",
    "    no_blocks_col_image=blocks[1]\n",
    "    total_blocks=(no_blocks_row_image)*(no_blocks_col_image)\n",
    "    #print total_blocks\n",
    "    dim1=len(kernels[0,:,0,0])*len(kernels[0,0,:,0])*total_blocks\n",
    "    dim2=len(kernels)\n",
    "    dim3=len(batch)\n",
    "    #print dim3,dim1,dim2\n",
    "    def f(i,j,k):\n",
    "        block_no=j//(len(kernels[0,:,0,0])*len(kernels[0,0,:,0]))\n",
    "        row_kernel=(j%(len(kernels[0,:,0,0])*len(kernels[0,0,:,0])))//len(kernels[0,:,0,0])\n",
    "        col_kernel=(j%(len(kernels[0,:,0,0])*len(kernels[0,0,:,0])))%len(kernels[0,:,0,0])\n",
    "        row_image=((block_no//no_blocks_row_image)*stride[0])+row_kernel\n",
    "        col_image=((block_no%no_blocks_col_image)*stride[1])+col_kernel\n",
    "        cache1=[]\n",
    "        cache1.append(row_image)\n",
    "        cache1.append(col_image)\n",
    "        cache1=np.asarray(cache1)\n",
    "        convolv = np.sum(batch[i,row_image,col_image,:]*kernels[k,row_kernel,col_kernel,:],axis=3)\n",
    "        convolv=np.reshape(convolv,(dim3,total_blocks,(len(kernels[0,:,0,0])*len(kernels[0,0,:,0])),dim2))\n",
    "        convolv=np.sum(convolv,axis=2)\n",
    "        convolv=np.reshape(convolv,(dim3,blocks[0],blocks[1],dim2))\n",
    "        return convolv,cache1   \n",
    "    convolved_images=np.fromfunction(f,(dim3,dim1,dim2),dtype=int)\n",
    "    return convolved_images\n",
    "    "
   ]
  },
  {
   "cell_type": "markdown",
   "metadata": {},
   "source": [
    "Relu Activation Function"
   ]
  },
  {
   "cell_type": "code",
   "execution_count": 4,
   "metadata": {},
   "outputs": [],
   "source": [
    "def relu(image_layer1):\n",
    "    shape=image_layer1.shape\n",
    "    def f(i,j,k,l):\n",
    "        if(image_layer1[i,j,k,l].all<0.0):\n",
    "            image_layer1[i,j,k,l]=0.0\n",
    "        return image_layer1[i,j,k,l]\n",
    "    relued_images=np.fromfunction(f,(shape[0],shape[1],shape[2],shape[3]),dtype=int)\n",
    "    return relued_images"
   ]
  },
  {
   "cell_type": "markdown",
   "metadata": {},
   "source": [
    "Average Pooling Function"
   ]
  },
  {
   "cell_type": "code",
   "execution_count": 5,
   "metadata": {},
   "outputs": [],
   "source": [
    "def pooling(image_layer_relu,size,stride):\n",
    "    blocks_pooled_row=int(((len(image_layer_relu[0,:,0,0])-size)//stride)+1)\n",
    "    blocks_pooled_col=((len(image_layer_relu[0,0,:,0])-size)//stride)+1\n",
    "    total_blocks_pooled=blocks_pooled_row*blocks_pooled_col\n",
    "    dim3=len(image_layer_relu)\n",
    "    dim1=size*size*total_blocks_pooled\n",
    "    dim2=len(image_layer_relu[0,0,0])\n",
    "    def f(k,i,j):\n",
    "        block_no=i//(size*size)\n",
    "        row_block=(i%(size*size))//size\n",
    "        col_block=((i%(size*size))%size)\n",
    "        row_image=((block_no//blocks_pooled_row)*stride)+row_block\n",
    "        col_image=((block_no%blocks_pooled_col)*stride)+col_block\n",
    "        pooled=image_layer_relu[k,row_image,col_image,j]\n",
    "        pooled=np.reshape(pooled,(dim3,total_blocks_pooled,size*size,dim2))\n",
    "        indices=np.argmax(pooled,axis=2)\n",
    "        pooled=np.average(pooled,axis=2)\n",
    "        pooled=np.reshape(pooled,(dim3,blocks_pooled_row,blocks_pooled_col,dim2))\n",
    "        x_reshaped = image_layer_relu.reshape(dim3, dim2,blocks_pooled_row, 2, blocks_pooled_col,2)\n",
    "        cache=(image_layer_relu,x_reshaped,pooled)\n",
    "        return pooled,cache\n",
    "    \n",
    "    image_layer_pooled,cache=np.fromfunction(f,(dim3,dim1,dim2),dtype=int)\n",
    "    \n",
    "    return image_layer_pooled,cache"
   ]
  },
  {
   "cell_type": "markdown",
   "metadata": {},
   "source": [
    "Pooling  Backward Function"
   ]
  },
  {
   "cell_type": "code",
   "execution_count": 6,
   "metadata": {},
   "outputs": [],
   "source": [
    "def pooled_backward(image_layer_relu_reshape,size,stride,total_blocks_pooled,dx_reshaped):\n",
    "    dim3=image_layer_relu_reshape.shape[0]\n",
    "    dim1=image_layer_relu_reshape.shape[1]\n",
    "    dim2=image_layer_relu_reshape.shape[2]\n",
    "    \n",
    "    def f(k,i,j):    \n",
    "        n=i//(size*size)\n",
    "        dx_relu=image_layer_relu_reshape[k,i,j]+dx_reshaped[k,n,j]\n",
    "        return dx_relu\n",
    "    previous_images_reshaped=np.fromfunction(f,(dim3,dim1,dim2),dtype=int)\n",
    "    return previous_images_reshaped"
   ]
  },
  {
   "cell_type": "markdown",
   "metadata": {},
   "source": [
    "Relu Backward Function\n"
   ]
  },
  {
   "cell_type": "code",
   "execution_count": 7,
   "metadata": {},
   "outputs": [],
   "source": [
    "def relu_backward(dx_relu):\n",
    "    dx_relu[dx_relu<=0]=0\n",
    "    dx_relu[dx_relu>0]=1\n",
    "    dx_conv=dx_relu\n",
    "    return dx_conv"
   ]
  },
  {
   "cell_type": "markdown",
   "metadata": {},
   "source": [
    "Convolution Backward"
   ]
  },
  {
   "cell_type": "code",
   "execution_count": 8,
   "metadata": {},
   "outputs": [],
   "source": [
    "def conv_backward(dx_conv_repeat,batch,kernels):\n",
    "    stride=(1,1,1)\n",
    "    stride=np.asarray(stride)\n",
    "    blocks = (np.array(batch[0,:,:].shape)-np.array(kernels[0,:,:].shape))//np.array(stride)+1\n",
    "    #print blocks\n",
    "    no_blocks_row_image=blocks[0]\n",
    "    no_blocks_col_image=blocks[1]\n",
    "    total_blocks=(no_blocks_row_image)*(no_blocks_col_image)\n",
    "    dim1=len(kernels[0,:,0,0])*len(kernels[0,0,:,0])*total_blocks\n",
    "    #print dim1\n",
    "    dim2=len(kernels)\n",
    "    dim3=len(batch)\n",
    "    \n",
    "   \n",
    "    shape_kernel=kernels.shape\n",
    "    def f(i,j):\n",
    "        block_no=j//(len(kernels[0,:,0,0])*len(kernels[0,0,:,0]))\n",
    "        row_kernel=(j%(len(kernels[0,:,0,0])*len(kernels[0,0,:,0])))//len(kernels[0,:,0,0])\n",
    "        col_kernel=(j%(len(kernels[0,:,0,0])*len(kernels[0,0,:,0])))%len(kernels[0,:,0,0])\n",
    "        row_image=((block_no//no_blocks_row_image)*stride[0])+row_kernel\n",
    "        col_image=((block_no%no_blocks_col_image)*stride[1])+col_kernel\n",
    "        \n",
    "        d=batch[i,row_image,col_image,:]\n",
    "        #print d.shape\n",
    "        return d\n",
    "    df_input=np.fromfunction(f,(dim3,dim1),dtype=int)\n",
    "    def g(i,j,k):\n",
    "        n=j//9\n",
    "        da=np.sum(df_input[i,j,:]*dx_conv_repeat[i,n,:,k],axis=3)\n",
    "        return da\n",
    "    da_input=np.fromfunction(g,(dim3,dim1,dim2),dtype=int)\n",
    "    da_input=np.sum(np.reshape(da_input,(dim3,len(kernels[0,:,0,0])*len(kernels[0,0,:,0]),total_blocks,dim2)),axis=2)\n",
    "    da_input=np.reshape(da_input,(dim3,len(kernels[0,:,0,0]),len(kernels[0,0,:,0]),dim2))\n",
    "    return da_input"
   ]
  },
  {
   "cell_type": "markdown",
   "metadata": {},
   "source": [
    "Calling batch of 1000 images at time and doing forward and Backward Propogation"
   ]
  },
  {
   "cell_type": "code",
   "execution_count": 9,
   "metadata": {},
   "outputs": [
    {
     "name": "stdout",
     "output_type": "stream",
     "text": [
      "2.3025851774811006\n",
      "2.2992172579819963\n",
      "2.2955963336379965\n"
     ]
    },
    {
     "ename": "KeyboardInterrupt",
     "evalue": "",
     "output_type": "error",
     "traceback": [
      "\u001b[0;31m---------------------------------------------------------------------------\u001b[0m",
      "\u001b[0;31mKeyboardInterrupt\u001b[0m                         Traceback (most recent call last)",
      "\u001b[0;32m<ipython-input-9-6487ec9b1513>\u001b[0m in \u001b[0;36m<module>\u001b[0;34m()\u001b[0m\n\u001b[1;32m     20\u001b[0m     \u001b[0mcv2\u001b[0m\u001b[0;34m.\u001b[0m\u001b[0mimwrite\u001b[0m\u001b[0;34m(\u001b[0m\u001b[0;34m\"actual_image.jpg\"\u001b[0m\u001b[0;34m,\u001b[0m\u001b[0mbatch\u001b[0m\u001b[0;34m[\u001b[0m\u001b[0;36m0\u001b[0m\u001b[0;34m]\u001b[0m\u001b[0;34m)\u001b[0m\u001b[0;34m\u001b[0m\u001b[0m\n\u001b[1;32m     21\u001b[0m     \u001b[0;31m#y=y_train[batch_index]\u001b[0m\u001b[0;34m\u001b[0m\u001b[0;34m\u001b[0m\u001b[0m\n\u001b[0;32m---> 22\u001b[0;31m     \u001b[0mimages_layer1\u001b[0m\u001b[0;34m,\u001b[0m\u001b[0mcache1\u001b[0m\u001b[0;34m=\u001b[0m\u001b[0mconvolution\u001b[0m\u001b[0;34m(\u001b[0m\u001b[0mbatch\u001b[0m\u001b[0;34m,\u001b[0m\u001b[0mkernels\u001b[0m\u001b[0;34m)\u001b[0m\u001b[0;34m\u001b[0m\u001b[0m\n\u001b[0m\u001b[1;32m     23\u001b[0m     \u001b[0;31m#print images_layer1.shape\u001b[0m\u001b[0;34m\u001b[0m\u001b[0;34m\u001b[0m\u001b[0m\n\u001b[1;32m     24\u001b[0m     \u001b[0mcv2\u001b[0m\u001b[0;34m.\u001b[0m\u001b[0mimwrite\u001b[0m\u001b[0;34m(\u001b[0m\u001b[0;34m\"image_layer1.jpg\"\u001b[0m\u001b[0;34m,\u001b[0m\u001b[0mimages_layer1\u001b[0m\u001b[0;34m[\u001b[0m\u001b[0;36m0\u001b[0m\u001b[0;34m,\u001b[0m\u001b[0;34m:\u001b[0m\u001b[0;34m,\u001b[0m\u001b[0;34m:\u001b[0m\u001b[0;34m,\u001b[0m\u001b[0;36m0\u001b[0m\u001b[0;34m]\u001b[0m\u001b[0;34m)\u001b[0m\u001b[0;34m\u001b[0m\u001b[0m\n",
      "\u001b[0;32m<ipython-input-3-71fd34a5ec13>\u001b[0m in \u001b[0;36mconvolution\u001b[0;34m(batch, kernels)\u001b[0m\n\u001b[1;32m     27\u001b[0m         \u001b[0mconvolv\u001b[0m\u001b[0;34m=\u001b[0m\u001b[0mnp\u001b[0m\u001b[0;34m.\u001b[0m\u001b[0mreshape\u001b[0m\u001b[0;34m(\u001b[0m\u001b[0mconvolv\u001b[0m\u001b[0;34m,\u001b[0m\u001b[0;34m(\u001b[0m\u001b[0mdim3\u001b[0m\u001b[0;34m,\u001b[0m\u001b[0mblocks\u001b[0m\u001b[0;34m[\u001b[0m\u001b[0;36m0\u001b[0m\u001b[0;34m]\u001b[0m\u001b[0;34m,\u001b[0m\u001b[0mblocks\u001b[0m\u001b[0;34m[\u001b[0m\u001b[0;36m1\u001b[0m\u001b[0;34m]\u001b[0m\u001b[0;34m,\u001b[0m\u001b[0mdim2\u001b[0m\u001b[0;34m)\u001b[0m\u001b[0;34m)\u001b[0m\u001b[0;34m\u001b[0m\u001b[0m\n\u001b[1;32m     28\u001b[0m         \u001b[0;32mreturn\u001b[0m \u001b[0mconvolv\u001b[0m\u001b[0;34m,\u001b[0m\u001b[0mcache1\u001b[0m\u001b[0;34m\u001b[0m\u001b[0m\n\u001b[0;32m---> 29\u001b[0;31m     \u001b[0mconvolved_images\u001b[0m\u001b[0;34m=\u001b[0m\u001b[0mnp\u001b[0m\u001b[0;34m.\u001b[0m\u001b[0mfromfunction\u001b[0m\u001b[0;34m(\u001b[0m\u001b[0mf\u001b[0m\u001b[0;34m,\u001b[0m\u001b[0;34m(\u001b[0m\u001b[0mdim3\u001b[0m\u001b[0;34m,\u001b[0m\u001b[0mdim1\u001b[0m\u001b[0;34m,\u001b[0m\u001b[0mdim2\u001b[0m\u001b[0;34m)\u001b[0m\u001b[0;34m,\u001b[0m\u001b[0mdtype\u001b[0m\u001b[0;34m=\u001b[0m\u001b[0mint\u001b[0m\u001b[0;34m)\u001b[0m\u001b[0;34m\u001b[0m\u001b[0m\n\u001b[0m\u001b[1;32m     30\u001b[0m     \u001b[0;32mreturn\u001b[0m \u001b[0mconvolved_images\u001b[0m\u001b[0;34m\u001b[0m\u001b[0m\n\u001b[1;32m     31\u001b[0m \u001b[0;34m\u001b[0m\u001b[0m\n",
      "\u001b[0;32m/usr/local/lib/python2.7/dist-packages/numpy/core/numeric.pyc\u001b[0m in \u001b[0;36mfromfunction\u001b[0;34m(function, shape, **kwargs)\u001b[0m\n\u001b[1;32m   1912\u001b[0m     \u001b[0mdtype\u001b[0m \u001b[0;34m=\u001b[0m \u001b[0mkwargs\u001b[0m\u001b[0;34m.\u001b[0m\u001b[0mpop\u001b[0m\u001b[0;34m(\u001b[0m\u001b[0;34m'dtype'\u001b[0m\u001b[0;34m,\u001b[0m \u001b[0mfloat\u001b[0m\u001b[0;34m)\u001b[0m\u001b[0;34m\u001b[0m\u001b[0m\n\u001b[1;32m   1913\u001b[0m     \u001b[0margs\u001b[0m \u001b[0;34m=\u001b[0m \u001b[0mindices\u001b[0m\u001b[0;34m(\u001b[0m\u001b[0mshape\u001b[0m\u001b[0;34m,\u001b[0m \u001b[0mdtype\u001b[0m\u001b[0;34m=\u001b[0m\u001b[0mdtype\u001b[0m\u001b[0;34m)\u001b[0m\u001b[0;34m\u001b[0m\u001b[0m\n\u001b[0;32m-> 1914\u001b[0;31m     \u001b[0;32mreturn\u001b[0m \u001b[0mfunction\u001b[0m\u001b[0;34m(\u001b[0m\u001b[0;34m*\u001b[0m\u001b[0margs\u001b[0m\u001b[0;34m,\u001b[0m \u001b[0;34m**\u001b[0m\u001b[0mkwargs\u001b[0m\u001b[0;34m)\u001b[0m\u001b[0;34m\u001b[0m\u001b[0m\n\u001b[0m\u001b[1;32m   1915\u001b[0m \u001b[0;34m\u001b[0m\u001b[0m\n\u001b[1;32m   1916\u001b[0m \u001b[0;34m\u001b[0m\u001b[0m\n",
      "\u001b[0;32m<ipython-input-3-71fd34a5ec13>\u001b[0m in \u001b[0;36mf\u001b[0;34m(i, j, k)\u001b[0m\n\u001b[1;32m     21\u001b[0m         \u001b[0mcache1\u001b[0m\u001b[0;34m.\u001b[0m\u001b[0mappend\u001b[0m\u001b[0;34m(\u001b[0m\u001b[0mrow_image\u001b[0m\u001b[0;34m)\u001b[0m\u001b[0;34m\u001b[0m\u001b[0m\n\u001b[1;32m     22\u001b[0m         \u001b[0mcache1\u001b[0m\u001b[0;34m.\u001b[0m\u001b[0mappend\u001b[0m\u001b[0;34m(\u001b[0m\u001b[0mcol_image\u001b[0m\u001b[0;34m)\u001b[0m\u001b[0;34m\u001b[0m\u001b[0m\n\u001b[0;32m---> 23\u001b[0;31m         \u001b[0mcache1\u001b[0m\u001b[0;34m=\u001b[0m\u001b[0mnp\u001b[0m\u001b[0;34m.\u001b[0m\u001b[0masarray\u001b[0m\u001b[0;34m(\u001b[0m\u001b[0mcache1\u001b[0m\u001b[0;34m)\u001b[0m\u001b[0;34m\u001b[0m\u001b[0m\n\u001b[0m\u001b[1;32m     24\u001b[0m         \u001b[0mconvolv\u001b[0m \u001b[0;34m=\u001b[0m \u001b[0mnp\u001b[0m\u001b[0;34m.\u001b[0m\u001b[0msum\u001b[0m\u001b[0;34m(\u001b[0m\u001b[0mbatch\u001b[0m\u001b[0;34m[\u001b[0m\u001b[0mi\u001b[0m\u001b[0;34m,\u001b[0m\u001b[0mrow_image\u001b[0m\u001b[0;34m,\u001b[0m\u001b[0mcol_image\u001b[0m\u001b[0;34m,\u001b[0m\u001b[0;34m:\u001b[0m\u001b[0;34m]\u001b[0m\u001b[0;34m*\u001b[0m\u001b[0mkernels\u001b[0m\u001b[0;34m[\u001b[0m\u001b[0mk\u001b[0m\u001b[0;34m,\u001b[0m\u001b[0mrow_kernel\u001b[0m\u001b[0;34m,\u001b[0m\u001b[0mcol_kernel\u001b[0m\u001b[0;34m,\u001b[0m\u001b[0;34m:\u001b[0m\u001b[0;34m]\u001b[0m\u001b[0;34m,\u001b[0m\u001b[0maxis\u001b[0m\u001b[0;34m=\u001b[0m\u001b[0;36m3\u001b[0m\u001b[0;34m)\u001b[0m\u001b[0;34m\u001b[0m\u001b[0m\n\u001b[1;32m     25\u001b[0m         \u001b[0mconvolv\u001b[0m\u001b[0;34m=\u001b[0m\u001b[0mnp\u001b[0m\u001b[0;34m.\u001b[0m\u001b[0mreshape\u001b[0m\u001b[0;34m(\u001b[0m\u001b[0mconvolv\u001b[0m\u001b[0;34m,\u001b[0m\u001b[0;34m(\u001b[0m\u001b[0mdim3\u001b[0m\u001b[0;34m,\u001b[0m\u001b[0mtotal_blocks\u001b[0m\u001b[0;34m,\u001b[0m\u001b[0;34m(\u001b[0m\u001b[0mlen\u001b[0m\u001b[0;34m(\u001b[0m\u001b[0mkernels\u001b[0m\u001b[0;34m[\u001b[0m\u001b[0;36m0\u001b[0m\u001b[0;34m,\u001b[0m\u001b[0;34m:\u001b[0m\u001b[0;34m,\u001b[0m\u001b[0;36m0\u001b[0m\u001b[0;34m,\u001b[0m\u001b[0;36m0\u001b[0m\u001b[0;34m]\u001b[0m\u001b[0;34m)\u001b[0m\u001b[0;34m*\u001b[0m\u001b[0mlen\u001b[0m\u001b[0;34m(\u001b[0m\u001b[0mkernels\u001b[0m\u001b[0;34m[\u001b[0m\u001b[0;36m0\u001b[0m\u001b[0;34m,\u001b[0m\u001b[0;36m0\u001b[0m\u001b[0;34m,\u001b[0m\u001b[0;34m:\u001b[0m\u001b[0;34m,\u001b[0m\u001b[0;36m0\u001b[0m\u001b[0;34m]\u001b[0m\u001b[0;34m)\u001b[0m\u001b[0;34m)\u001b[0m\u001b[0;34m,\u001b[0m\u001b[0mdim2\u001b[0m\u001b[0;34m)\u001b[0m\u001b[0;34m)\u001b[0m\u001b[0;34m\u001b[0m\u001b[0m\n",
      "\u001b[0;32m/usr/local/lib/python2.7/dist-packages/numpy/core/numeric.pyc\u001b[0m in \u001b[0;36masarray\u001b[0;34m(a, dtype, order)\u001b[0m\n\u001b[1;32m    490\u001b[0m \u001b[0;34m\u001b[0m\u001b[0m\n\u001b[1;32m    491\u001b[0m     \"\"\"\n\u001b[0;32m--> 492\u001b[0;31m     \u001b[0;32mreturn\u001b[0m \u001b[0marray\u001b[0m\u001b[0;34m(\u001b[0m\u001b[0ma\u001b[0m\u001b[0;34m,\u001b[0m \u001b[0mdtype\u001b[0m\u001b[0;34m,\u001b[0m \u001b[0mcopy\u001b[0m\u001b[0;34m=\u001b[0m\u001b[0mFalse\u001b[0m\u001b[0;34m,\u001b[0m \u001b[0morder\u001b[0m\u001b[0;34m=\u001b[0m\u001b[0morder\u001b[0m\u001b[0;34m)\u001b[0m\u001b[0;34m\u001b[0m\u001b[0m\n\u001b[0m\u001b[1;32m    493\u001b[0m \u001b[0;34m\u001b[0m\u001b[0m\n\u001b[1;32m    494\u001b[0m \u001b[0;34m\u001b[0m\u001b[0m\n",
      "\u001b[0;31mKeyboardInterrupt\u001b[0m: "
     ]
    }
   ],
   "source": [
    "#print X_train.shape\n",
    "#print X_test.shape\n",
    "X_train = X_train.reshape(X_train.shape[0], 28, 28, 1)\n",
    "#W=np.random.random((pooled_reshaped.shape[1],10))*0.00001\n",
    "kernel1=np.random.rand(3,3,1)*0.0001\n",
    "kernel2=np.random.rand(3,3,1)*0.0001\n",
    "kernel3=np.random.rand(3,3,1)*0.0001\n",
    "kernels=[]\n",
    "kernels.append(kernel1)\n",
    "kernels.append(kernel2)\n",
    "kernels.append(kernel3)\n",
    "kernels=np.asarray(kernels)\n",
    "#print kernels.shape\n",
    "X_test = X_test.reshape(X_test.shape[0], 28, 28, 1)\n",
    "i=0\n",
    "\n",
    "for (batch , y) in get_batch(X_train, y_train, batch_size=1000):\n",
    "    #batch_index=np.random.choice(60000,100)\n",
    "    #batch=X_train[batch_index]\n",
    "    cv2.imwrite(\"actual_image.jpg\",batch[0])\n",
    "    #y=y_train[batch_index]\n",
    "    images_layer1,cache1=convolution(batch,kernels) \n",
    "    #print images_layer1.shape\n",
    "    cv2.imwrite(\"image_layer1.jpg\",images_layer1[0,:,:,0])\n",
    "    image_layer_relu=relu(images_layer1)\n",
    "    #print image_layer_relu.shape\n",
    "    cv2.imwrite(\"relu.jpg\",image_layer_relu[0,:,:,0])\n",
    "\n",
    "    shape=np.array(image_layer_relu.shape)\n",
    "    size=2\n",
    "    stride=2\n",
    "    pooled_images,cache_pooled=pooling(image_layer_relu,size,stride)\n",
    "    cv2.imwrite('pooled.jpg',pooled_images[99,:,:,0])\n",
    "    #print pooled_images.shape\n",
    "    pooled_reshaped=np.reshape(pooled_images,(pooled_images.shape[0],(pooled_images.shape[1]*pooled_images.shape[2]*pooled_images.shape[3])))\n",
    "    #print pooled_reshaped.shape\n",
    "    X=pooled_reshaped\n",
    "    if(i==0):\n",
    "        W=np.random.random((pooled_reshaped.shape[1],10))*0.00001\n",
    "    \n",
    "    i=1\n",
    "    loss = 0.0\n",
    "    dW = np.zeros_like(W)\n",
    "    num_train = X.shape[0]\n",
    "    f = X.dot(W)\n",
    "    shifted_logits = f - np.max(f, axis=1, keepdims=True)\n",
    "    Z = np.sum(np.exp(shifted_logits), axis=1, keepdims=True)\n",
    "    log_probs = shifted_logits - np.log(Z)\n",
    "    probs = np.exp(log_probs)\n",
    "    N = f.shape[0]\n",
    "    loss = -np.sum(log_probs[np.arange(N), y]) / N\n",
    "    print loss\n",
    "    df = probs.copy()\n",
    "    df[np.arange(N), y] -= 1\n",
    "    df /= N\n",
    "    df.shape\n",
    "\n",
    "    dx = df.dot(W.T).reshape(X.shape)\n",
    "    dw = X.reshape(X.shape[0],-1).T.dot(df)\n",
    "    dx_reshaped=np.reshape(dx,(pooled_images.shape[0],pooled_images.shape[1],pooled_images.shape[2],pooled_images.shape[3]))\n",
    "    dx_reshaped=dx_reshaped/4\n",
    "    dx_reshaped=np.reshape(dx_reshaped,(pooled_images.shape[0],pooled_images.shape[1]*pooled_images.shape[2],pooled_images.shape[3]))\n",
    "    alpha=0.5\n",
    "    \n",
    "\n",
    "    blocks_pooled_row=int(((len(image_layer_relu[0,:,0,0])-size)//stride)+1)\n",
    "    blocks_pooled_col=((len(image_layer_relu[0,0,:,0])-size)//stride)+1\n",
    "    total_blocks_pooled=blocks_pooled_row*blocks_pooled_col\n",
    "    dim3=len(image_layer_relu)\n",
    "    dim1=size*size*total_blocks_pooled\n",
    "    dim2=len(image_layer_relu[0,0,0])\n",
    "    image_layer_relu_reshape=np.reshape(image_layer_relu,(dim3,dim1,dim2))\n",
    "    dx_relu=pooled_backward(image_layer_relu_reshape,size,stride,total_blocks_pooled,dx_reshaped)\n",
    "    dx_conv=relu_backward(dx_relu)\n",
    "    #print dx_conv.shape\n",
    "    \n",
    "    dx_conv_repeat=np.repeat(dx_conv[:, :, np.newaxis,:], batch.shape[3], axis=2)\n",
    "    #print dx_conv_repeat.shape\n",
    "    da_input=conv_backward(dx_conv_repeat,batch,kernels)\n",
    "    #print da_input.shape\n",
    "    dkernel= da_input[9]\n",
    "    #print dkernel[0]\n",
    "    #dkernel=np.repeat(dkernel[:,:,:,np.newaxis],3,axis=0)\n",
    "    dkernel=np.reshape(dkernel,(dkernel.shape[0],dkernel.shape[1],dkernel.shape[2],1))\n",
    "    c=W-(alpha*dw)\n",
    "    W=c\n",
    "    alpha=0.5\n",
    "    #print dkernel[0]\n",
    "    w1=kernels[0]-(alpha*dkernel[0])\n",
    "    w2=kernels[1]-(alpha*dkernel[1])\n",
    "    w3=kernels[2]-(alpha*dkernel[2])\n",
    "    kernel=[]\n",
    "    kernel.append(w1)\n",
    "    kernel.append(w2)\n",
    "    kernel.append(w3)\n",
    "    kernel=np.asarray(kernels)\n",
    "    kernels=kernel\n",
    "      \n",
    "    "
   ]
  },
  {
   "cell_type": "code",
   "execution_count": null,
   "metadata": {},
   "outputs": [],
   "source": []
  },
  {
   "cell_type": "code",
   "execution_count": null,
   "metadata": {},
   "outputs": [],
   "source": []
  },
  {
   "cell_type": "code",
   "execution_count": null,
   "metadata": {},
   "outputs": [],
   "source": []
  }
 ],
 "metadata": {
  "kernelspec": {
   "display_name": "Python 2",
   "language": "python",
   "name": "python2"
  },
  "language_info": {
   "codemirror_mode": {
    "name": "ipython",
    "version": 3
   },
   "file_extension": ".py",
   "mimetype": "text/x-python",
   "name": "python",
   "nbconvert_exporter": "python",
   "pygments_lexer": "ipython3",
   "version": "3.6.7"
  }
 },
 "nbformat": 4,
 "nbformat_minor": 2
}
